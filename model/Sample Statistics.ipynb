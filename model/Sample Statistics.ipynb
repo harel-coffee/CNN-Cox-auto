{
 "cells": [
  {
   "cell_type": "code",
   "execution_count": 1,
   "id": "521a86e1",
   "metadata": {},
   "outputs": [
    {
     "name": "stdout",
     "output_type": "stream",
     "text": [
      "BLCA\n",
      "sample: 422\n",
      "0    236\n",
      "1    186\n",
      "Name: OS, dtype: int64\n",
      "Censored Ratio: 0.5592417061611374\n",
      "------------------------\n",
      "HNSC\n",
      "sample: 543\n",
      "0.0    293\n",
      "1.0    250\n",
      "Name: OS, dtype: int64\n",
      "Censored Ratio: 0.5395948434622467\n",
      "------------------------\n",
      "KIRC\n",
      "sample: 596\n",
      "0.0    398\n",
      "1.0    198\n",
      "Name: OS, dtype: int64\n",
      "Censored Ratio: 0.6677852348993288\n",
      "------------------------\n",
      "LGG\n",
      "sample: 514\n",
      "0.0    387\n",
      "1.0    127\n",
      "Name: OS, dtype: int64\n",
      "Censored Ratio: 0.7529182879377432\n",
      "------------------------\n",
      "LUAD\n",
      "sample: 551\n",
      "0.0    345\n",
      "1.0    206\n",
      "Name: OS, dtype: int64\n",
      "Censored Ratio: 0.6261343012704175\n",
      "------------------------\n",
      "LUSC\n",
      "sample: 539\n",
      "0.0    299\n",
      "1.0    240\n",
      "Name: OS, dtype: int64\n",
      "Censored Ratio: 0.5547309833024119\n",
      "------------------------\n",
      "SKCM\n",
      "sample: 454\n",
      "0.0    240\n",
      "1.0    214\n",
      "Name: OS, dtype: int64\n",
      "Censored Ratio: 0.5286343612334802\n",
      "------------------------\n"
     ]
    }
   ],
   "source": [
    "import numpy as np\n",
    "import pandas as pd\n",
    "cancer_types= ['BLCA','HNSC','KIRC','LGG','LUAD','LUSC','SKCM']\n",
    "Cindex=[]\n",
    "for cancer in range(len(cancer_types)):\n",
    "    #path\n",
    "    current_path='D:/Machine learning/CNN-Cox/data/100/'\n",
    "    cancer_name = cancer_types[cancer]\n",
    "    print(cancer_name)\n",
    "    output_path=current_path+'/' + cancer_name + \"100.csv\"\n",
    "    df_exp=pd.read_csv(output_path,index_col=0)\n",
    "    gene_exp=df_exp.dropna(axis=0,subset = [\"OS\", \"OS.time\"])\n",
    "    print(\"sample:\",len(gene_exp))\n",
    "    print(gene_exp[\"OS\"].value_counts())\n",
    "    print(\"Censored Ratio:\",gene_exp[\"OS\"].value_counts()[0]/len(gene_exp))\n",
    "    print(\"------------------------\")"
   ]
  },
  {
   "cell_type": "code",
   "execution_count": null,
   "id": "2bd9bec7",
   "metadata": {},
   "outputs": [],
   "source": []
  }
 ],
 "metadata": {
  "kernelspec": {
   "display_name": "Python [conda env:tensorflow241]",
   "language": "python",
   "name": "conda-env-tensorflow241-py"
  },
  "language_info": {
   "codemirror_mode": {
    "name": "ipython",
    "version": 3
   },
   "file_extension": ".py",
   "mimetype": "text/x-python",
   "name": "python",
   "nbconvert_exporter": "python",
   "pygments_lexer": "ipython3",
   "version": "3.8.12"
  }
 },
 "nbformat": 4,
 "nbformat_minor": 5
}
